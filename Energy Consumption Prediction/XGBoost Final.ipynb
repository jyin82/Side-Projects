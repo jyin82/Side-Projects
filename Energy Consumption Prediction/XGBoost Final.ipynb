{
 "cells": [
  {
   "cell_type": "markdown",
   "metadata": {},
   "source": [
    "# XGBoost to predict energy consumption"
   ]
  },
  {
   "cell_type": "code",
   "execution_count": 1,
   "metadata": {},
   "outputs": [],
   "source": [
    "import xgboost as xgb\n",
    "import numpy as np\n",
    "import pandas as pd\n",
    "import datetime\n",
    "import seaborn as sns\n",
    "\n",
    "import sklearn\n",
    "import matplotlib.pyplot as plt"
   ]
  },
  {
   "cell_type": "code",
   "execution_count": 2,
   "metadata": {},
   "outputs": [
    {
     "data": {
      "text/html": [
       "<div>\n",
       "<style scoped>\n",
       "    .dataframe tbody tr th:only-of-type {\n",
       "        vertical-align: middle;\n",
       "    }\n",
       "\n",
       "    .dataframe tbody tr th {\n",
       "        vertical-align: top;\n",
       "    }\n",
       "\n",
       "    .dataframe thead th {\n",
       "        text-align: right;\n",
       "    }\n",
       "</style>\n",
       "<table border=\"1\" class=\"dataframe\">\n",
       "  <thead>\n",
       "    <tr style=\"text-align: right;\">\n",
       "      <th></th>\n",
       "      <th>date_time</th>\n",
       "      <th>Electricity consumption (kW)</th>\n",
       "    </tr>\n",
       "  </thead>\n",
       "  <tbody>\n",
       "    <tr>\n",
       "      <th>0</th>\n",
       "      <td>1/1/2018 0:15</td>\n",
       "      <td>430</td>\n",
       "    </tr>\n",
       "    <tr>\n",
       "      <th>1</th>\n",
       "      <td>1/1/2018 0:30</td>\n",
       "      <td>420</td>\n",
       "    </tr>\n",
       "    <tr>\n",
       "      <th>2</th>\n",
       "      <td>1/1/2018 0:45</td>\n",
       "      <td>440</td>\n",
       "    </tr>\n",
       "    <tr>\n",
       "      <th>3</th>\n",
       "      <td>1/1/2018 1:00</td>\n",
       "      <td>420</td>\n",
       "    </tr>\n",
       "    <tr>\n",
       "      <th>4</th>\n",
       "      <td>1/1/2018 1:15</td>\n",
       "      <td>420</td>\n",
       "    </tr>\n",
       "  </tbody>\n",
       "</table>\n",
       "</div>"
      ],
      "text/plain": [
       "       date_time  Electricity consumption (kW)\n",
       "0  1/1/2018 0:15                           430\n",
       "1  1/1/2018 0:30                           420\n",
       "2  1/1/2018 0:45                           440\n",
       "3  1/1/2018 1:00                           420\n",
       "4  1/1/2018 1:15                           420"
      ]
     },
     "execution_count": 2,
     "metadata": {},
     "output_type": "execute_result"
    }
   ],
   "source": [
    "#read data\n",
    "consump = pd.read_csv('Electricity consumption.csv')\n",
    "consump.head()"
   ]
  },
  {
   "cell_type": "code",
   "execution_count": 3,
   "metadata": {},
   "outputs": [
    {
     "data": {
      "text/plain": [
       "(40415, 2)"
      ]
     },
     "execution_count": 3,
     "metadata": {},
     "output_type": "execute_result"
    }
   ],
   "source": [
    "consump.shape"
   ]
  },
  {
   "cell_type": "code",
   "execution_count": 4,
   "metadata": {},
   "outputs": [
    {
     "name": "stdout",
     "output_type": "stream",
     "text": [
      "date_time                       0\n",
      "Electricity consumption (kW)    0\n",
      "dtype: int64\n"
     ]
    }
   ],
   "source": [
    "#Check missing data\n",
    "print(consump.isnull().sum())"
   ]
  },
  {
   "cell_type": "code",
   "execution_count": 5,
   "metadata": {},
   "outputs": [
    {
     "data": {
      "text/html": [
       "<div>\n",
       "<style scoped>\n",
       "    .dataframe tbody tr th:only-of-type {\n",
       "        vertical-align: middle;\n",
       "    }\n",
       "\n",
       "    .dataframe tbody tr th {\n",
       "        vertical-align: top;\n",
       "    }\n",
       "\n",
       "    .dataframe thead th {\n",
       "        text-align: right;\n",
       "    }\n",
       "</style>\n",
       "<table border=\"1\" class=\"dataframe\">\n",
       "  <thead>\n",
       "    <tr style=\"text-align: right;\">\n",
       "      <th></th>\n",
       "      <th>date_time</th>\n",
       "      <th>Electricity consumption (kW)</th>\n",
       "    </tr>\n",
       "  </thead>\n",
       "  <tbody>\n",
       "    <tr>\n",
       "      <th>0</th>\n",
       "      <td>2018-01-01 00:15:00</td>\n",
       "      <td>430</td>\n",
       "    </tr>\n",
       "    <tr>\n",
       "      <th>1</th>\n",
       "      <td>2018-01-01 00:30:00</td>\n",
       "      <td>420</td>\n",
       "    </tr>\n",
       "    <tr>\n",
       "      <th>2</th>\n",
       "      <td>2018-01-01 00:45:00</td>\n",
       "      <td>440</td>\n",
       "    </tr>\n",
       "    <tr>\n",
       "      <th>3</th>\n",
       "      <td>2018-01-01 01:00:00</td>\n",
       "      <td>420</td>\n",
       "    </tr>\n",
       "    <tr>\n",
       "      <th>4</th>\n",
       "      <td>2018-01-01 01:15:00</td>\n",
       "      <td>420</td>\n",
       "    </tr>\n",
       "  </tbody>\n",
       "</table>\n",
       "</div>"
      ],
      "text/plain": [
       "            date_time  Electricity consumption (kW)\n",
       "0 2018-01-01 00:15:00                           430\n",
       "1 2018-01-01 00:30:00                           420\n",
       "2 2018-01-01 00:45:00                           440\n",
       "3 2018-01-01 01:00:00                           420\n",
       "4 2018-01-01 01:15:00                           420"
      ]
     },
     "execution_count": 5,
     "metadata": {},
     "output_type": "execute_result"
    }
   ],
   "source": [
    "#change time format\n",
    "consump['date_time'] = pd.to_datetime(consump[\"date_time\"])\n",
    "consump.head()"
   ]
  },
  {
   "cell_type": "code",
   "execution_count": 6,
   "metadata": {},
   "outputs": [
    {
     "data": {
      "text/html": [
       "<div>\n",
       "<style scoped>\n",
       "    .dataframe tbody tr th:only-of-type {\n",
       "        vertical-align: middle;\n",
       "    }\n",
       "\n",
       "    .dataframe tbody tr th {\n",
       "        vertical-align: top;\n",
       "    }\n",
       "\n",
       "    .dataframe thead th {\n",
       "        text-align: right;\n",
       "    }\n",
       "</style>\n",
       "<table border=\"1\" class=\"dataframe\">\n",
       "  <thead>\n",
       "    <tr style=\"text-align: right;\">\n",
       "      <th></th>\n",
       "      <th>date_time</th>\n",
       "      <th>Temperature (F)</th>\n",
       "      <th>Humidity (%)</th>\n",
       "    </tr>\n",
       "  </thead>\n",
       "  <tbody>\n",
       "    <tr>\n",
       "      <th>0</th>\n",
       "      <td>1/1/2018 1:00</td>\n",
       "      <td>9.0</td>\n",
       "      <td>56.1</td>\n",
       "    </tr>\n",
       "    <tr>\n",
       "      <th>1</th>\n",
       "      <td>1/1/2018 2:00</td>\n",
       "      <td>8.9</td>\n",
       "      <td>56.2</td>\n",
       "    </tr>\n",
       "    <tr>\n",
       "      <th>2</th>\n",
       "      <td>1/1/2018 3:00</td>\n",
       "      <td>8.5</td>\n",
       "      <td>57.0</td>\n",
       "    </tr>\n",
       "    <tr>\n",
       "      <th>3</th>\n",
       "      <td>1/1/2018 4:00</td>\n",
       "      <td>8.1</td>\n",
       "      <td>56.5</td>\n",
       "    </tr>\n",
       "    <tr>\n",
       "      <th>4</th>\n",
       "      <td>1/1/2018 5:00</td>\n",
       "      <td>8.0</td>\n",
       "      <td>57.6</td>\n",
       "    </tr>\n",
       "  </tbody>\n",
       "</table>\n",
       "</div>"
      ],
      "text/plain": [
       "       date_time  Temperature (F)  Humidity (%)\n",
       "0  1/1/2018 1:00              9.0          56.1\n",
       "1  1/1/2018 2:00              8.9          56.2\n",
       "2  1/1/2018 3:00              8.5          57.0\n",
       "3  1/1/2018 4:00              8.1          56.5\n",
       "4  1/1/2018 5:00              8.0          57.6"
      ]
     },
     "execution_count": 6,
     "metadata": {},
     "output_type": "execute_result"
    }
   ],
   "source": [
    "#check weather data\n",
    "weather = pd.read_csv('Weather data.csv')\n",
    "weather.head()"
   ]
  },
  {
   "cell_type": "code",
   "execution_count": 7,
   "metadata": {},
   "outputs": [
    {
     "data": {
      "text/plain": [
       "(10271, 3)"
      ]
     },
     "execution_count": 7,
     "metadata": {},
     "output_type": "execute_result"
    }
   ],
   "source": [
    "weather.shape"
   ]
  },
  {
   "cell_type": "code",
   "execution_count": 8,
   "metadata": {},
   "outputs": [
    {
     "name": "stdout",
     "output_type": "stream",
     "text": [
      "date_time          0\n",
      "Temperature (F)    0\n",
      "Humidity (%)       0\n",
      "dtype: int64\n"
     ]
    }
   ],
   "source": [
    "#Check missing data\n",
    "print(weather.isnull().sum())"
   ]
  },
  {
   "cell_type": "code",
   "execution_count": 9,
   "metadata": {},
   "outputs": [
    {
     "data": {
      "text/html": [
       "<div>\n",
       "<style scoped>\n",
       "    .dataframe tbody tr th:only-of-type {\n",
       "        vertical-align: middle;\n",
       "    }\n",
       "\n",
       "    .dataframe tbody tr th {\n",
       "        vertical-align: top;\n",
       "    }\n",
       "\n",
       "    .dataframe thead th {\n",
       "        text-align: right;\n",
       "    }\n",
       "</style>\n",
       "<table border=\"1\" class=\"dataframe\">\n",
       "  <thead>\n",
       "    <tr style=\"text-align: right;\">\n",
       "      <th></th>\n",
       "      <th>date_time</th>\n",
       "      <th>Temperature (F)</th>\n",
       "      <th>Humidity (%)</th>\n",
       "    </tr>\n",
       "  </thead>\n",
       "  <tbody>\n",
       "    <tr>\n",
       "      <th>0</th>\n",
       "      <td>2018-01-01 01:00:00</td>\n",
       "      <td>9.0</td>\n",
       "      <td>56.1</td>\n",
       "    </tr>\n",
       "    <tr>\n",
       "      <th>1</th>\n",
       "      <td>2018-01-01 02:00:00</td>\n",
       "      <td>8.9</td>\n",
       "      <td>56.2</td>\n",
       "    </tr>\n",
       "    <tr>\n",
       "      <th>2</th>\n",
       "      <td>2018-01-01 03:00:00</td>\n",
       "      <td>8.5</td>\n",
       "      <td>57.0</td>\n",
       "    </tr>\n",
       "    <tr>\n",
       "      <th>3</th>\n",
       "      <td>2018-01-01 04:00:00</td>\n",
       "      <td>8.1</td>\n",
       "      <td>56.5</td>\n",
       "    </tr>\n",
       "    <tr>\n",
       "      <th>4</th>\n",
       "      <td>2018-01-01 05:00:00</td>\n",
       "      <td>8.0</td>\n",
       "      <td>57.6</td>\n",
       "    </tr>\n",
       "  </tbody>\n",
       "</table>\n",
       "</div>"
      ],
      "text/plain": [
       "            date_time  Temperature (F)  Humidity (%)\n",
       "0 2018-01-01 01:00:00              9.0          56.1\n",
       "1 2018-01-01 02:00:00              8.9          56.2\n",
       "2 2018-01-01 03:00:00              8.5          57.0\n",
       "3 2018-01-01 04:00:00              8.1          56.5\n",
       "4 2018-01-01 05:00:00              8.0          57.6"
      ]
     },
     "execution_count": 9,
     "metadata": {},
     "output_type": "execute_result"
    }
   ],
   "source": [
    "#change time format\n",
    "weather['date_time'] = pd.to_datetime(weather[\"date_time\"])\n",
    "weather.head()"
   ]
  },
  {
   "cell_type": "code",
   "execution_count": 10,
   "metadata": {},
   "outputs": [
    {
     "data": {
      "text/html": [
       "<div>\n",
       "<style scoped>\n",
       "    .dataframe tbody tr th:only-of-type {\n",
       "        vertical-align: middle;\n",
       "    }\n",
       "\n",
       "    .dataframe tbody tr th {\n",
       "        vertical-align: top;\n",
       "    }\n",
       "\n",
       "    .dataframe thead th {\n",
       "        text-align: right;\n",
       "    }\n",
       "</style>\n",
       "<table border=\"1\" class=\"dataframe\">\n",
       "  <thead>\n",
       "    <tr style=\"text-align: right;\">\n",
       "      <th></th>\n",
       "      <th>date_time</th>\n",
       "      <th>Electricity consumption (kW)</th>\n",
       "      <th>Temperature (F)</th>\n",
       "      <th>Humidity (%)</th>\n",
       "    </tr>\n",
       "  </thead>\n",
       "  <tbody>\n",
       "    <tr>\n",
       "      <th>0</th>\n",
       "      <td>2018-01-01 00:15:00</td>\n",
       "      <td>430.0</td>\n",
       "      <td>NaN</td>\n",
       "      <td>NaN</td>\n",
       "    </tr>\n",
       "    <tr>\n",
       "      <th>1</th>\n",
       "      <td>2018-01-01 00:30:00</td>\n",
       "      <td>420.0</td>\n",
       "      <td>NaN</td>\n",
       "      <td>NaN</td>\n",
       "    </tr>\n",
       "    <tr>\n",
       "      <th>2</th>\n",
       "      <td>2018-01-01 00:45:00</td>\n",
       "      <td>440.0</td>\n",
       "      <td>NaN</td>\n",
       "      <td>NaN</td>\n",
       "    </tr>\n",
       "    <tr>\n",
       "      <th>3</th>\n",
       "      <td>2018-01-01 01:00:00</td>\n",
       "      <td>420.0</td>\n",
       "      <td>9.0</td>\n",
       "      <td>56.1</td>\n",
       "    </tr>\n",
       "    <tr>\n",
       "      <th>4</th>\n",
       "      <td>2018-01-01 01:15:00</td>\n",
       "      <td>420.0</td>\n",
       "      <td>NaN</td>\n",
       "      <td>NaN</td>\n",
       "    </tr>\n",
       "  </tbody>\n",
       "</table>\n",
       "</div>"
      ],
      "text/plain": [
       "            date_time  Electricity consumption (kW)  Temperature (F)  \\\n",
       "0 2018-01-01 00:15:00                         430.0              NaN   \n",
       "1 2018-01-01 00:30:00                         420.0              NaN   \n",
       "2 2018-01-01 00:45:00                         440.0              NaN   \n",
       "3 2018-01-01 01:00:00                         420.0              9.0   \n",
       "4 2018-01-01 01:15:00                         420.0              NaN   \n",
       "\n",
       "   Humidity (%)  \n",
       "0           NaN  \n",
       "1           NaN  \n",
       "2           NaN  \n",
       "3          56.1  \n",
       "4           NaN  "
      ]
     },
     "execution_count": 10,
     "metadata": {},
     "output_type": "execute_result"
    }
   ],
   "source": [
    "#Combine two tables\n",
    "df = pd.merge(consump,weather, how='outer',on='date_time')\n",
    "df.head()"
   ]
  },
  {
   "cell_type": "code",
   "execution_count": 11,
   "metadata": {},
   "outputs": [
    {
     "data": {
      "text/html": [
       "<div>\n",
       "<style scoped>\n",
       "    .dataframe tbody tr th:only-of-type {\n",
       "        vertical-align: middle;\n",
       "    }\n",
       "\n",
       "    .dataframe tbody tr th {\n",
       "        vertical-align: top;\n",
       "    }\n",
       "\n",
       "    .dataframe thead th {\n",
       "        text-align: right;\n",
       "    }\n",
       "</style>\n",
       "<table border=\"1\" class=\"dataframe\">\n",
       "  <thead>\n",
       "    <tr style=\"text-align: right;\">\n",
       "      <th></th>\n",
       "      <th>date_time</th>\n",
       "      <th>Electricity consumption (kW)</th>\n",
       "      <th>Temperature (F)</th>\n",
       "      <th>Humidity (%)</th>\n",
       "    </tr>\n",
       "  </thead>\n",
       "  <tbody>\n",
       "    <tr>\n",
       "      <th>0</th>\n",
       "      <td>2018-01-01 00:15:00</td>\n",
       "      <td>430.0</td>\n",
       "      <td>9.0</td>\n",
       "      <td>56.1</td>\n",
       "    </tr>\n",
       "    <tr>\n",
       "      <th>1</th>\n",
       "      <td>2018-01-01 00:30:00</td>\n",
       "      <td>420.0</td>\n",
       "      <td>9.0</td>\n",
       "      <td>56.1</td>\n",
       "    </tr>\n",
       "    <tr>\n",
       "      <th>2</th>\n",
       "      <td>2018-01-01 00:45:00</td>\n",
       "      <td>440.0</td>\n",
       "      <td>9.0</td>\n",
       "      <td>56.1</td>\n",
       "    </tr>\n",
       "    <tr>\n",
       "      <th>3</th>\n",
       "      <td>2018-01-01 01:00:00</td>\n",
       "      <td>420.0</td>\n",
       "      <td>9.0</td>\n",
       "      <td>56.1</td>\n",
       "    </tr>\n",
       "    <tr>\n",
       "      <th>4</th>\n",
       "      <td>2018-01-01 01:15:00</td>\n",
       "      <td>420.0</td>\n",
       "      <td>8.9</td>\n",
       "      <td>56.2</td>\n",
       "    </tr>\n",
       "  </tbody>\n",
       "</table>\n",
       "</div>"
      ],
      "text/plain": [
       "            date_time  Electricity consumption (kW)  Temperature (F)  \\\n",
       "0 2018-01-01 00:15:00                         430.0              9.0   \n",
       "1 2018-01-01 00:30:00                         420.0              9.0   \n",
       "2 2018-01-01 00:45:00                         440.0              9.0   \n",
       "3 2018-01-01 01:00:00                         420.0              9.0   \n",
       "4 2018-01-01 01:15:00                         420.0              8.9   \n",
       "\n",
       "   Humidity (%)  \n",
       "0          56.1  \n",
       "1          56.1  \n",
       "2          56.1  \n",
       "3          56.1  \n",
       "4          56.2  "
      ]
     },
     "execution_count": 11,
     "metadata": {},
     "output_type": "execute_result"
    }
   ],
   "source": [
    "#fill in the missing using the next row value\n",
    "df.fillna(method='backfill', axis=0, inplace=True)\n",
    "df.head()"
   ]
  },
  {
   "cell_type": "code",
   "execution_count": 12,
   "metadata": {},
   "outputs": [],
   "source": [
    "#drop off the columns where Electricity consumption are null\n",
    "df_train = df.dropna()"
   ]
  },
  {
   "cell_type": "code",
   "execution_count": 13,
   "metadata": {},
   "outputs": [],
   "source": [
    "train_y = df_train[\"Electricity consumption (kW)\"].values\n",
    "train_x = df_train.drop([\"Electricity consumption (kW)\"],axis=1)\n",
    "train_x = train_x.drop([\"date_time\"],axis=1)"
   ]
  },
  {
   "cell_type": "code",
   "execution_count": 14,
   "metadata": {},
   "outputs": [
    {
     "name": "stdout",
     "output_type": "stream",
     "text": [
      "XGBRegressor(base_score=0.5, booster='gbtree', colsample_bylevel=1,\n",
      "             colsample_bynode=1, colsample_bytree=1, gamma=0, gpu_id=-1,\n",
      "             importance_type='gain', interaction_constraints='',\n",
      "             learning_rate=0.300000012, max_delta_step=0, max_depth=6,\n",
      "             min_child_weight=1, missing=nan, monotone_constraints='()',\n",
      "             n_estimators=100, n_jobs=4, num_parallel_tree=1, random_state=0,\n",
      "             reg_alpha=0, reg_lambda=1, scale_pos_weight=1, subsample=1,\n",
      "             tree_method='exact', validate_parameters=1, verbosity=None)\n"
     ]
    }
   ],
   "source": [
    "#Fitting XGB regressor\n",
    "model = xgb.XGBRegressor()\n",
    "model.fit(train_x, train_y)\n",
    "print(model)"
   ]
  },
  {
   "cell_type": "code",
   "execution_count": 15,
   "metadata": {},
   "outputs": [],
   "source": [
    "#Prepare the testset\n",
    "df_test = df.loc[df[\"Electricity consumption (kW)\"].isnull()]"
   ]
  },
  {
   "cell_type": "code",
   "execution_count": 16,
   "metadata": {},
   "outputs": [],
   "source": [
    "test_x = df_test.drop([\"Electricity consumption (kW)\"],axis=1)\n",
    "test_x = test_x.drop([\"date_time\"],axis=1)\n",
    "test_x = test_x.values"
   ]
  },
  {
   "cell_type": "code",
   "execution_count": 17,
   "metadata": {},
   "outputs": [
    {
     "data": {
      "text/html": [
       "<div>\n",
       "<style scoped>\n",
       "    .dataframe tbody tr th:only-of-type {\n",
       "        vertical-align: middle;\n",
       "    }\n",
       "\n",
       "    .dataframe tbody tr th {\n",
       "        vertical-align: top;\n",
       "    }\n",
       "\n",
       "    .dataframe thead th {\n",
       "        text-align: right;\n",
       "    }\n",
       "</style>\n",
       "<table border=\"1\" class=\"dataframe\">\n",
       "  <thead>\n",
       "    <tr style=\"text-align: right;\">\n",
       "      <th></th>\n",
       "      <th>date_time</th>\n",
       "      <th>Electricity consumption (kW)</th>\n",
       "    </tr>\n",
       "  </thead>\n",
       "  <tbody>\n",
       "    <tr>\n",
       "      <th>40415</th>\n",
       "      <td>2019-02-26 00:00:00</td>\n",
       "      <td>404.637939</td>\n",
       "    </tr>\n",
       "    <tr>\n",
       "      <th>40416</th>\n",
       "      <td>2019-02-26 01:00:00</td>\n",
       "      <td>397.788422</td>\n",
       "    </tr>\n",
       "    <tr>\n",
       "      <th>40417</th>\n",
       "      <td>2019-02-26 02:00:00</td>\n",
       "      <td>363.674744</td>\n",
       "    </tr>\n",
       "    <tr>\n",
       "      <th>40418</th>\n",
       "      <td>2019-02-26 03:00:00</td>\n",
       "      <td>429.529449</td>\n",
       "    </tr>\n",
       "    <tr>\n",
       "      <th>40419</th>\n",
       "      <td>2019-02-26 04:00:00</td>\n",
       "      <td>437.667755</td>\n",
       "    </tr>\n",
       "  </tbody>\n",
       "</table>\n",
       "</div>"
      ],
      "text/plain": [
       "                date_time  Electricity consumption (kW)\n",
       "40415 2019-02-26 00:00:00                    404.637939\n",
       "40416 2019-02-26 01:00:00                    397.788422\n",
       "40417 2019-02-26 02:00:00                    363.674744\n",
       "40418 2019-02-26 03:00:00                    429.529449\n",
       "40419 2019-02-26 04:00:00                    437.667755"
      ]
     },
     "execution_count": 17,
     "metadata": {},
     "output_type": "execute_result"
    }
   ],
   "source": [
    "#Predict\n",
    "output = model.predict(test_x)\n",
    "final_df = pd.DataFrame()\n",
    "final_df[\"date_time\"] = df_test[\"date_time\"]\n",
    "final_df[\"Electricity consumption (kW)\"] = output\n",
    "final_df.head()"
   ]
  },
  {
   "cell_type": "markdown",
   "metadata": {},
   "source": [
    "### Feature Engineering "
   ]
  },
  {
   "cell_type": "code",
   "execution_count": 18,
   "metadata": {
    "scrolled": true
   },
   "outputs": [],
   "source": [
    "import datetime\n",
    "\n",
    "#add day of the week from the date\n",
    "df['dayofweek_name'] = df['date_time'].dt.day_name()\n",
    "\n",
    "#add day if weekend or not\n",
    "df['is_weekend'] = np.where(df['dayofweek_name'].isin(['Sunday','Saturday']),1,0)\n",
    "\n",
    "#add month from the date\n",
    "df['month'] = df['date_time'].dt.month\n",
    "\n",
    "#add quarter from the date\n",
    "df['quarter'] = df['date_time'].dt.quarter"
   ]
  },
  {
   "cell_type": "markdown",
   "metadata": {},
   "source": [
    "Add hours as new feature"
   ]
  },
  {
   "cell_type": "code",
   "execution_count": 19,
   "metadata": {},
   "outputs": [
    {
     "data": {
      "text/html": [
       "<div>\n",
       "<style scoped>\n",
       "    .dataframe tbody tr th:only-of-type {\n",
       "        vertical-align: middle;\n",
       "    }\n",
       "\n",
       "    .dataframe tbody tr th {\n",
       "        vertical-align: top;\n",
       "    }\n",
       "\n",
       "    .dataframe thead th {\n",
       "        text-align: right;\n",
       "    }\n",
       "</style>\n",
       "<table border=\"1\" class=\"dataframe\">\n",
       "  <thead>\n",
       "    <tr style=\"text-align: right;\">\n",
       "      <th></th>\n",
       "      <th>date_time</th>\n",
       "      <th>Electricity consumption (kW)</th>\n",
       "      <th>Temperature (F)</th>\n",
       "      <th>Humidity (%)</th>\n",
       "      <th>dayofweek_name</th>\n",
       "      <th>is_weekend</th>\n",
       "      <th>month</th>\n",
       "      <th>quarter</th>\n",
       "    </tr>\n",
       "  </thead>\n",
       "  <tbody>\n",
       "    <tr>\n",
       "      <th>0</th>\n",
       "      <td>2018-01-01 00:15:00</td>\n",
       "      <td>430.0</td>\n",
       "      <td>9.0</td>\n",
       "      <td>56.1</td>\n",
       "      <td>Monday</td>\n",
       "      <td>0</td>\n",
       "      <td>1</td>\n",
       "      <td>1</td>\n",
       "    </tr>\n",
       "    <tr>\n",
       "      <th>1</th>\n",
       "      <td>2018-01-01 00:30:00</td>\n",
       "      <td>420.0</td>\n",
       "      <td>9.0</td>\n",
       "      <td>56.1</td>\n",
       "      <td>Monday</td>\n",
       "      <td>0</td>\n",
       "      <td>1</td>\n",
       "      <td>1</td>\n",
       "    </tr>\n",
       "    <tr>\n",
       "      <th>2</th>\n",
       "      <td>2018-01-01 00:45:00</td>\n",
       "      <td>440.0</td>\n",
       "      <td>9.0</td>\n",
       "      <td>56.1</td>\n",
       "      <td>Monday</td>\n",
       "      <td>0</td>\n",
       "      <td>1</td>\n",
       "      <td>1</td>\n",
       "    </tr>\n",
       "    <tr>\n",
       "      <th>3</th>\n",
       "      <td>2018-01-01 01:00:00</td>\n",
       "      <td>420.0</td>\n",
       "      <td>9.0</td>\n",
       "      <td>56.1</td>\n",
       "      <td>Monday</td>\n",
       "      <td>0</td>\n",
       "      <td>1</td>\n",
       "      <td>1</td>\n",
       "    </tr>\n",
       "    <tr>\n",
       "      <th>4</th>\n",
       "      <td>2018-01-01 01:15:00</td>\n",
       "      <td>420.0</td>\n",
       "      <td>8.9</td>\n",
       "      <td>56.2</td>\n",
       "      <td>Monday</td>\n",
       "      <td>0</td>\n",
       "      <td>1</td>\n",
       "      <td>1</td>\n",
       "    </tr>\n",
       "  </tbody>\n",
       "</table>\n",
       "</div>"
      ],
      "text/plain": [
       "            date_time  Electricity consumption (kW)  Temperature (F)  \\\n",
       "0 2018-01-01 00:15:00                         430.0              9.0   \n",
       "1 2018-01-01 00:30:00                         420.0              9.0   \n",
       "2 2018-01-01 00:45:00                         440.0              9.0   \n",
       "3 2018-01-01 01:00:00                         420.0              9.0   \n",
       "4 2018-01-01 01:15:00                         420.0              8.9   \n",
       "\n",
       "   Humidity (%) dayofweek_name  is_weekend  month  quarter  \n",
       "0          56.1         Monday           0      1        1  \n",
       "1          56.1         Monday           0      1        1  \n",
       "2          56.1         Monday           0      1        1  \n",
       "3          56.1         Monday           0      1        1  \n",
       "4          56.2         Monday           0      1        1  "
      ]
     },
     "execution_count": 19,
     "metadata": {},
     "output_type": "execute_result"
    }
   ],
   "source": [
    "df.head()"
   ]
  },
  {
   "cell_type": "code",
   "execution_count": 20,
   "metadata": {},
   "outputs": [],
   "source": [
    "#deal with categorical data\n",
    "from sklearn.preprocessing import OneHotEncoder\n",
    "\n",
    "\n",
    "enc = OneHotEncoder(handle_unknown='ignore')\n",
    "\n",
    "enc_df = pd.DataFrame(enc.fit_transform(df[['dayofweek_name']]).toarray())\n",
    "\n",
    "df = df.join(enc_df)"
   ]
  },
  {
   "cell_type": "code",
   "execution_count": 21,
   "metadata": {},
   "outputs": [
    {
     "data": {
      "text/html": [
       "<div>\n",
       "<style scoped>\n",
       "    .dataframe tbody tr th:only-of-type {\n",
       "        vertical-align: middle;\n",
       "    }\n",
       "\n",
       "    .dataframe tbody tr th {\n",
       "        vertical-align: top;\n",
       "    }\n",
       "\n",
       "    .dataframe thead th {\n",
       "        text-align: right;\n",
       "    }\n",
       "</style>\n",
       "<table border=\"1\" class=\"dataframe\">\n",
       "  <thead>\n",
       "    <tr style=\"text-align: right;\">\n",
       "      <th></th>\n",
       "      <th>date_time</th>\n",
       "      <th>Electricity consumption (kW)</th>\n",
       "      <th>Temperature (F)</th>\n",
       "      <th>Humidity (%)</th>\n",
       "      <th>is_weekend</th>\n",
       "      <th>month</th>\n",
       "      <th>quarter</th>\n",
       "      <th>0</th>\n",
       "      <th>1</th>\n",
       "      <th>2</th>\n",
       "      <th>3</th>\n",
       "      <th>4</th>\n",
       "      <th>5</th>\n",
       "      <th>6</th>\n",
       "    </tr>\n",
       "  </thead>\n",
       "  <tbody>\n",
       "    <tr>\n",
       "      <th>0</th>\n",
       "      <td>2018-01-01 00:15:00</td>\n",
       "      <td>430.0</td>\n",
       "      <td>9.0</td>\n",
       "      <td>56.1</td>\n",
       "      <td>0</td>\n",
       "      <td>1</td>\n",
       "      <td>1</td>\n",
       "      <td>0.0</td>\n",
       "      <td>1.0</td>\n",
       "      <td>0.0</td>\n",
       "      <td>0.0</td>\n",
       "      <td>0.0</td>\n",
       "      <td>0.0</td>\n",
       "      <td>0.0</td>\n",
       "    </tr>\n",
       "    <tr>\n",
       "      <th>1</th>\n",
       "      <td>2018-01-01 00:30:00</td>\n",
       "      <td>420.0</td>\n",
       "      <td>9.0</td>\n",
       "      <td>56.1</td>\n",
       "      <td>0</td>\n",
       "      <td>1</td>\n",
       "      <td>1</td>\n",
       "      <td>0.0</td>\n",
       "      <td>1.0</td>\n",
       "      <td>0.0</td>\n",
       "      <td>0.0</td>\n",
       "      <td>0.0</td>\n",
       "      <td>0.0</td>\n",
       "      <td>0.0</td>\n",
       "    </tr>\n",
       "    <tr>\n",
       "      <th>2</th>\n",
       "      <td>2018-01-01 00:45:00</td>\n",
       "      <td>440.0</td>\n",
       "      <td>9.0</td>\n",
       "      <td>56.1</td>\n",
       "      <td>0</td>\n",
       "      <td>1</td>\n",
       "      <td>1</td>\n",
       "      <td>0.0</td>\n",
       "      <td>1.0</td>\n",
       "      <td>0.0</td>\n",
       "      <td>0.0</td>\n",
       "      <td>0.0</td>\n",
       "      <td>0.0</td>\n",
       "      <td>0.0</td>\n",
       "    </tr>\n",
       "    <tr>\n",
       "      <th>3</th>\n",
       "      <td>2018-01-01 01:00:00</td>\n",
       "      <td>420.0</td>\n",
       "      <td>9.0</td>\n",
       "      <td>56.1</td>\n",
       "      <td>0</td>\n",
       "      <td>1</td>\n",
       "      <td>1</td>\n",
       "      <td>0.0</td>\n",
       "      <td>1.0</td>\n",
       "      <td>0.0</td>\n",
       "      <td>0.0</td>\n",
       "      <td>0.0</td>\n",
       "      <td>0.0</td>\n",
       "      <td>0.0</td>\n",
       "    </tr>\n",
       "    <tr>\n",
       "      <th>4</th>\n",
       "      <td>2018-01-01 01:15:00</td>\n",
       "      <td>420.0</td>\n",
       "      <td>8.9</td>\n",
       "      <td>56.2</td>\n",
       "      <td>0</td>\n",
       "      <td>1</td>\n",
       "      <td>1</td>\n",
       "      <td>0.0</td>\n",
       "      <td>1.0</td>\n",
       "      <td>0.0</td>\n",
       "      <td>0.0</td>\n",
       "      <td>0.0</td>\n",
       "      <td>0.0</td>\n",
       "      <td>0.0</td>\n",
       "    </tr>\n",
       "  </tbody>\n",
       "</table>\n",
       "</div>"
      ],
      "text/plain": [
       "            date_time  Electricity consumption (kW)  Temperature (F)  \\\n",
       "0 2018-01-01 00:15:00                         430.0              9.0   \n",
       "1 2018-01-01 00:30:00                         420.0              9.0   \n",
       "2 2018-01-01 00:45:00                         440.0              9.0   \n",
       "3 2018-01-01 01:00:00                         420.0              9.0   \n",
       "4 2018-01-01 01:15:00                         420.0              8.9   \n",
       "\n",
       "   Humidity (%)  is_weekend  month  quarter    0    1    2    3    4    5    6  \n",
       "0          56.1           0      1        1  0.0  1.0  0.0  0.0  0.0  0.0  0.0  \n",
       "1          56.1           0      1        1  0.0  1.0  0.0  0.0  0.0  0.0  0.0  \n",
       "2          56.1           0      1        1  0.0  1.0  0.0  0.0  0.0  0.0  0.0  \n",
       "3          56.1           0      1        1  0.0  1.0  0.0  0.0  0.0  0.0  0.0  \n",
       "4          56.2           0      1        1  0.0  1.0  0.0  0.0  0.0  0.0  0.0  "
      ]
     },
     "execution_count": 21,
     "metadata": {},
     "output_type": "execute_result"
    }
   ],
   "source": [
    "df = df.drop(['dayofweek_name'],axis=1)\n",
    "df.head()"
   ]
  },
  {
   "cell_type": "code",
   "execution_count": 22,
   "metadata": {},
   "outputs": [
    {
     "name": "stdout",
     "output_type": "stream",
     "text": [
      "XGBRegressor(base_score=0.5, booster='gbtree', colsample_bylevel=1,\n",
      "             colsample_bynode=1, colsample_bytree=1, gamma=0, gpu_id=-1,\n",
      "             importance_type='gain', interaction_constraints='',\n",
      "             learning_rate=0.300000012, max_delta_step=0, max_depth=6,\n",
      "             min_child_weight=1, missing=nan, monotone_constraints='()',\n",
      "             n_estimators=100, n_jobs=4, num_parallel_tree=1, random_state=0,\n",
      "             reg_alpha=0, reg_lambda=1, scale_pos_weight=1, subsample=1,\n",
      "             tree_method='exact', validate_parameters=1, verbosity=None)\n"
     ]
    }
   ],
   "source": [
    "#drop off the columns where Electricity consumption are null\n",
    "df_train = df.dropna()\n",
    "\n",
    "train_y = df_train[\"Electricity consumption (kW)\"].values\n",
    "train_x = df_train.drop([\"Electricity consumption (kW)\"],axis=1)\n",
    "train_x = train_x.drop([\"date_time\"],axis=1)\n",
    "\n",
    "#Fitting XGB regressor\n",
    "model = xgb.XGBRegressor()\n",
    "model.fit(train_x, train_y)\n",
    "print(model)"
   ]
  },
  {
   "cell_type": "code",
   "execution_count": 23,
   "metadata": {},
   "outputs": [],
   "source": [
    "#Prepare the testset\n",
    "df_test = df.loc[df[\"Electricity consumption (kW)\"].isnull()]"
   ]
  },
  {
   "cell_type": "code",
   "execution_count": 24,
   "metadata": {},
   "outputs": [],
   "source": [
    "test_x = df_test.drop([\"Electricity consumption (kW)\"],axis=1)\n",
    "test_x = test_x.drop([\"date_time\"],axis=1)\n",
    "test_x = test_x.values"
   ]
  },
  {
   "cell_type": "code",
   "execution_count": 25,
   "metadata": {},
   "outputs": [
    {
     "data": {
      "text/html": [
       "<div>\n",
       "<style scoped>\n",
       "    .dataframe tbody tr th:only-of-type {\n",
       "        vertical-align: middle;\n",
       "    }\n",
       "\n",
       "    .dataframe tbody tr th {\n",
       "        vertical-align: top;\n",
       "    }\n",
       "\n",
       "    .dataframe thead th {\n",
       "        text-align: right;\n",
       "    }\n",
       "</style>\n",
       "<table border=\"1\" class=\"dataframe\">\n",
       "  <thead>\n",
       "    <tr style=\"text-align: right;\">\n",
       "      <th></th>\n",
       "      <th>date_time</th>\n",
       "      <th>Electricity consumption (kW)</th>\n",
       "    </tr>\n",
       "  </thead>\n",
       "  <tbody>\n",
       "    <tr>\n",
       "      <th>40415</th>\n",
       "      <td>2019-02-26 00:00:00</td>\n",
       "      <td>398.407074</td>\n",
       "    </tr>\n",
       "    <tr>\n",
       "      <th>40416</th>\n",
       "      <td>2019-02-26 01:00:00</td>\n",
       "      <td>457.200134</td>\n",
       "    </tr>\n",
       "    <tr>\n",
       "      <th>40417</th>\n",
       "      <td>2019-02-26 02:00:00</td>\n",
       "      <td>454.023346</td>\n",
       "    </tr>\n",
       "    <tr>\n",
       "      <th>40418</th>\n",
       "      <td>2019-02-26 03:00:00</td>\n",
       "      <td>487.571198</td>\n",
       "    </tr>\n",
       "    <tr>\n",
       "      <th>40419</th>\n",
       "      <td>2019-02-26 04:00:00</td>\n",
       "      <td>487.617371</td>\n",
       "    </tr>\n",
       "  </tbody>\n",
       "</table>\n",
       "</div>"
      ],
      "text/plain": [
       "                date_time  Electricity consumption (kW)\n",
       "40415 2019-02-26 00:00:00                    398.407074\n",
       "40416 2019-02-26 01:00:00                    457.200134\n",
       "40417 2019-02-26 02:00:00                    454.023346\n",
       "40418 2019-02-26 03:00:00                    487.571198\n",
       "40419 2019-02-26 04:00:00                    487.617371"
      ]
     },
     "execution_count": 25,
     "metadata": {},
     "output_type": "execute_result"
    }
   ],
   "source": [
    "#Predict\n",
    "output = model.predict(test_x)\n",
    "final_df = pd.DataFrame()\n",
    "final_df[\"date_time\"] = df_test[\"date_time\"]\n",
    "final_df[\"Electricity consumption (kW)\"] = output\n",
    "final_df.head()"
   ]
  },
  {
   "cell_type": "code",
   "execution_count": null,
   "metadata": {},
   "outputs": [],
   "source": []
  },
  {
   "cell_type": "markdown",
   "metadata": {},
   "source": [
    "### Performance for January 2019"
   ]
  },
  {
   "cell_type": "code",
   "execution_count": 26,
   "metadata": {},
   "outputs": [],
   "source": [
    "df_jan19 = df[(df['date_time'] >= '2019-01-01 00:00:00') & (df['date_time'] < '2019-02-01 00:00:00')]"
   ]
  },
  {
   "cell_type": "code",
   "execution_count": 27,
   "metadata": {},
   "outputs": [
    {
     "data": {
      "text/html": [
       "<div>\n",
       "<style scoped>\n",
       "    .dataframe tbody tr th:only-of-type {\n",
       "        vertical-align: middle;\n",
       "    }\n",
       "\n",
       "    .dataframe tbody tr th {\n",
       "        vertical-align: top;\n",
       "    }\n",
       "\n",
       "    .dataframe thead th {\n",
       "        text-align: right;\n",
       "    }\n",
       "</style>\n",
       "<table border=\"1\" class=\"dataframe\">\n",
       "  <thead>\n",
       "    <tr style=\"text-align: right;\">\n",
       "      <th></th>\n",
       "      <th>date_time</th>\n",
       "      <th>Electricity consumption (kW)</th>\n",
       "    </tr>\n",
       "  </thead>\n",
       "  <tbody>\n",
       "    <tr>\n",
       "      <th>35039</th>\n",
       "      <td>2019-01-01 00:00:00</td>\n",
       "      <td>265.020660</td>\n",
       "    </tr>\n",
       "    <tr>\n",
       "      <th>35040</th>\n",
       "      <td>2019-01-01 00:15:00</td>\n",
       "      <td>250.283737</td>\n",
       "    </tr>\n",
       "    <tr>\n",
       "      <th>35041</th>\n",
       "      <td>2019-01-01 00:30:00</td>\n",
       "      <td>250.283737</td>\n",
       "    </tr>\n",
       "    <tr>\n",
       "      <th>35042</th>\n",
       "      <td>2019-01-01 00:45:00</td>\n",
       "      <td>250.283737</td>\n",
       "    </tr>\n",
       "    <tr>\n",
       "      <th>35043</th>\n",
       "      <td>2019-01-01 01:00:00</td>\n",
       "      <td>250.283737</td>\n",
       "    </tr>\n",
       "  </tbody>\n",
       "</table>\n",
       "</div>"
      ],
      "text/plain": [
       "                date_time  Electricity consumption (kW)\n",
       "35039 2019-01-01 00:00:00                    265.020660\n",
       "35040 2019-01-01 00:15:00                    250.283737\n",
       "35041 2019-01-01 00:30:00                    250.283737\n",
       "35042 2019-01-01 00:45:00                    250.283737\n",
       "35043 2019-01-01 01:00:00                    250.283737"
      ]
     },
     "execution_count": 27,
     "metadata": {},
     "output_type": "execute_result"
    }
   ],
   "source": [
    "#Prepare the testset\n",
    "test_x = df_jan19.drop([\"Electricity consumption (kW)\"],axis=1)\n",
    "test_x = test_x.drop([\"date_time\"],axis=1)\n",
    "test_x = test_x.values\n",
    "\n",
    "#Predict\n",
    "output = model.predict(test_x)\n",
    "test_jan19 = pd.DataFrame()\n",
    "test_jan19[\"date_time\"] = df_jan19[\"date_time\"]\n",
    "test_jan19[\"Electricity consumption (kW)\"] = output\n",
    "test_jan19.head()"
   ]
  },
  {
   "cell_type": "code",
   "execution_count": 28,
   "metadata": {},
   "outputs": [
    {
     "data": {
      "text/plain": [
       "0.19082010112219938"
      ]
     },
     "execution_count": 28,
     "metadata": {},
     "output_type": "execute_result"
    }
   ],
   "source": [
    "from sklearn.metrics import mean_squared_log_error\n",
    "np.sqrt(mean_squared_log_error(df_jan19[\"Electricity consumption (kW)\"], test_jan19[\"Electricity consumption (kW)\"]))"
   ]
  },
  {
   "cell_type": "markdown",
   "metadata": {},
   "source": [
    "Check algorithm performance for the rest of time."
   ]
  },
  {
   "cell_type": "code",
   "execution_count": 29,
   "metadata": {},
   "outputs": [
    {
     "data": {
      "text/html": [
       "<div>\n",
       "<style scoped>\n",
       "    .dataframe tbody tr th:only-of-type {\n",
       "        vertical-align: middle;\n",
       "    }\n",
       "\n",
       "    .dataframe tbody tr th {\n",
       "        vertical-align: top;\n",
       "    }\n",
       "\n",
       "    .dataframe thead th {\n",
       "        text-align: right;\n",
       "    }\n",
       "</style>\n",
       "<table border=\"1\" class=\"dataframe\">\n",
       "  <thead>\n",
       "    <tr style=\"text-align: right;\">\n",
       "      <th></th>\n",
       "      <th>date_time</th>\n",
       "      <th>Electricity consumption (kW)</th>\n",
       "    </tr>\n",
       "  </thead>\n",
       "  <tbody>\n",
       "    <tr>\n",
       "      <th>0</th>\n",
       "      <td>2018-01-01 00:15:00</td>\n",
       "      <td>417.623505</td>\n",
       "    </tr>\n",
       "    <tr>\n",
       "      <th>1</th>\n",
       "      <td>2018-01-01 00:30:00</td>\n",
       "      <td>417.623505</td>\n",
       "    </tr>\n",
       "    <tr>\n",
       "      <th>2</th>\n",
       "      <td>2018-01-01 00:45:00</td>\n",
       "      <td>417.623505</td>\n",
       "    </tr>\n",
       "    <tr>\n",
       "      <th>3</th>\n",
       "      <td>2018-01-01 01:00:00</td>\n",
       "      <td>417.623505</td>\n",
       "    </tr>\n",
       "    <tr>\n",
       "      <th>4</th>\n",
       "      <td>2018-01-01 01:15:00</td>\n",
       "      <td>417.623505</td>\n",
       "    </tr>\n",
       "  </tbody>\n",
       "</table>\n",
       "</div>"
      ],
      "text/plain": [
       "            date_time  Electricity consumption (kW)\n",
       "0 2018-01-01 00:15:00                    417.623505\n",
       "1 2018-01-01 00:30:00                    417.623505\n",
       "2 2018-01-01 00:45:00                    417.623505\n",
       "3 2018-01-01 01:00:00                    417.623505\n",
       "4 2018-01-01 01:15:00                    417.623505"
      ]
     },
     "execution_count": 29,
     "metadata": {},
     "output_type": "execute_result"
    }
   ],
   "source": [
    "df_whole = df[(df['date_time'] >= '2018-01-01 00:00:00') & (df['date_time'] < '2019-02-26 00:00:00')]\n",
    "\n",
    "#Prepare the testset\n",
    "test_x = df_whole.drop([\"Electricity consumption (kW)\"],axis=1)\n",
    "test_x = test_x.drop([\"date_time\"],axis=1)\n",
    "test_x = test_x.values\n",
    "\n",
    "#Predict\n",
    "output = model.predict(test_x)\n",
    "test_whole = pd.DataFrame()\n",
    "test_whole[\"date_time\"] = df_whole[\"date_time\"]\n",
    "test_whole[\"Electricity consumption (kW)\"] = output\n",
    "test_whole.head()"
   ]
  },
  {
   "cell_type": "code",
   "execution_count": 30,
   "metadata": {},
   "outputs": [
    {
     "data": {
      "text/plain": [
       "0.19274567384594277"
      ]
     },
     "execution_count": 30,
     "metadata": {},
     "output_type": "execute_result"
    }
   ],
   "source": [
    "from sklearn.metrics import mean_squared_log_error\n",
    "np.sqrt(mean_squared_log_error(df_whole[\"Electricity consumption (kW)\"], test_whole[\"Electricity consumption (kW)\"]))"
   ]
  },
  {
   "cell_type": "markdown",
   "metadata": {},
   "source": [
    "The RMSLE value is 0.1908 which is smaller than the RMSLE value for the rest of time prediction and means the algorithm performance is slightly better than the rest of time."
   ]
  },
  {
   "cell_type": "markdown",
   "metadata": {},
   "source": [
    "### Forecast the electricity consumption (kWh) per day for the next 7 days "
   ]
  },
  {
   "cell_type": "code",
   "execution_count": 31,
   "metadata": {
    "scrolled": true
   },
   "outputs": [
    {
     "data": {
      "text/html": [
       "<div>\n",
       "<style scoped>\n",
       "    .dataframe tbody tr th:only-of-type {\n",
       "        vertical-align: middle;\n",
       "    }\n",
       "\n",
       "    .dataframe tbody tr th {\n",
       "        vertical-align: top;\n",
       "    }\n",
       "\n",
       "    .dataframe thead th {\n",
       "        text-align: right;\n",
       "    }\n",
       "</style>\n",
       "<table border=\"1\" class=\"dataframe\">\n",
       "  <thead>\n",
       "    <tr style=\"text-align: right;\">\n",
       "      <th></th>\n",
       "      <th>date_time</th>\n",
       "      <th>Electricity consumption (kWh)</th>\n",
       "    </tr>\n",
       "  </thead>\n",
       "  <tbody>\n",
       "    <tr>\n",
       "      <th>0</th>\n",
       "      <td>2019-02-26</td>\n",
       "      <td>11127.230469</td>\n",
       "    </tr>\n",
       "    <tr>\n",
       "      <th>1</th>\n",
       "      <td>2019-02-27</td>\n",
       "      <td>10434.162109</td>\n",
       "    </tr>\n",
       "    <tr>\n",
       "      <th>2</th>\n",
       "      <td>2019-02-28</td>\n",
       "      <td>11304.461914</td>\n",
       "    </tr>\n",
       "    <tr>\n",
       "      <th>3</th>\n",
       "      <td>2019-03-01</td>\n",
       "      <td>10171.115234</td>\n",
       "    </tr>\n",
       "    <tr>\n",
       "      <th>4</th>\n",
       "      <td>2019-03-02</td>\n",
       "      <td>6960.247070</td>\n",
       "    </tr>\n",
       "    <tr>\n",
       "      <th>5</th>\n",
       "      <td>2019-03-03</td>\n",
       "      <td>6421.929199</td>\n",
       "    </tr>\n",
       "    <tr>\n",
       "      <th>6</th>\n",
       "      <td>2019-03-04</td>\n",
       "      <td>9451.801758</td>\n",
       "    </tr>\n",
       "  </tbody>\n",
       "</table>\n",
       "</div>"
      ],
      "text/plain": [
       "   date_time  Electricity consumption (kWh)\n",
       "0 2019-02-26                   11127.230469\n",
       "1 2019-02-27                   10434.162109\n",
       "2 2019-02-28                   11304.461914\n",
       "3 2019-03-01                   10171.115234\n",
       "4 2019-03-02                    6960.247070\n",
       "5 2019-03-03                    6421.929199\n",
       "6 2019-03-04                    9451.801758"
      ]
     },
     "execution_count": 31,
     "metadata": {},
     "output_type": "execute_result"
    }
   ],
   "source": [
    "final_df_copy = final_df.copy()\n",
    "\n",
    "#Get rid of time from datetime\n",
    "final_df['date_time'] = pd.to_datetime(final_df['date_time']).dt.normalize()\n",
    "\n",
    "#groupby date and average the consumption\n",
    "df_sum = pd.DataFrame(final_df.groupby(['date_time'],as_index=False)['Electricity consumption (kW)'].mean())\n",
    "df_sum[\"Electricity consumption (kWh)\"] = df_sum[\"Electricity consumption (kW)\"]*24\n",
    "df_sum = df_sum.drop([\"Electricity consumption (kW)\"],axis=1)\n",
    "df_sum"
   ]
  },
  {
   "cell_type": "markdown",
   "metadata": {},
   "source": [
    "### Forecast the 15min electricity demand (kW) for the next 2 days "
   ]
  },
  {
   "cell_type": "code",
   "execution_count": 39,
   "metadata": {},
   "outputs": [
    {
     "data": {
      "text/html": [
       "<div>\n",
       "<style scoped>\n",
       "    .dataframe tbody tr th:only-of-type {\n",
       "        vertical-align: middle;\n",
       "    }\n",
       "\n",
       "    .dataframe tbody tr th {\n",
       "        vertical-align: top;\n",
       "    }\n",
       "\n",
       "    .dataframe thead th {\n",
       "        text-align: right;\n",
       "    }\n",
       "</style>\n",
       "<table border=\"1\" class=\"dataframe\">\n",
       "  <thead>\n",
       "    <tr style=\"text-align: right;\">\n",
       "      <th></th>\n",
       "      <th>date_time</th>\n",
       "      <th>Electricity consumption (kW)</th>\n",
       "    </tr>\n",
       "  </thead>\n",
       "  <tbody>\n",
       "    <tr>\n",
       "      <th>0</th>\n",
       "      <td>2019-02-26 00:00:00</td>\n",
       "      <td>398.407074</td>\n",
       "    </tr>\n",
       "    <tr>\n",
       "      <th>1</th>\n",
       "      <td>2019-02-26 00:15:00</td>\n",
       "      <td>413.105347</td>\n",
       "    </tr>\n",
       "    <tr>\n",
       "      <th>2</th>\n",
       "      <td>2019-02-26 00:30:00</td>\n",
       "      <td>427.803589</td>\n",
       "    </tr>\n",
       "    <tr>\n",
       "      <th>3</th>\n",
       "      <td>2019-02-26 00:45:00</td>\n",
       "      <td>442.501862</td>\n",
       "    </tr>\n",
       "    <tr>\n",
       "      <th>4</th>\n",
       "      <td>2019-02-26 01:00:00</td>\n",
       "      <td>457.200134</td>\n",
       "    </tr>\n",
       "    <tr>\n",
       "      <th>...</th>\n",
       "      <td>...</td>\n",
       "      <td>...</td>\n",
       "    </tr>\n",
       "    <tr>\n",
       "      <th>187</th>\n",
       "      <td>2019-02-27 22:45:00</td>\n",
       "      <td>385.118469</td>\n",
       "    </tr>\n",
       "    <tr>\n",
       "      <th>188</th>\n",
       "      <td>2019-02-27 23:00:00</td>\n",
       "      <td>395.299042</td>\n",
       "    </tr>\n",
       "    <tr>\n",
       "      <th>189</th>\n",
       "      <td>2019-02-27 23:15:00</td>\n",
       "      <td>428.915619</td>\n",
       "    </tr>\n",
       "    <tr>\n",
       "      <th>190</th>\n",
       "      <td>2019-02-27 23:30:00</td>\n",
       "      <td>462.532166</td>\n",
       "    </tr>\n",
       "    <tr>\n",
       "      <th>191</th>\n",
       "      <td>2019-02-27 23:45:00</td>\n",
       "      <td>496.148743</td>\n",
       "    </tr>\n",
       "  </tbody>\n",
       "</table>\n",
       "<p>192 rows × 2 columns</p>\n",
       "</div>"
      ],
      "text/plain": [
       "              date_time  Electricity consumption (kW)\n",
       "0   2019-02-26 00:00:00                    398.407074\n",
       "1   2019-02-26 00:15:00                    413.105347\n",
       "2   2019-02-26 00:30:00                    427.803589\n",
       "3   2019-02-26 00:45:00                    442.501862\n",
       "4   2019-02-26 01:00:00                    457.200134\n",
       "..                  ...                           ...\n",
       "187 2019-02-27 22:45:00                    385.118469\n",
       "188 2019-02-27 23:00:00                    395.299042\n",
       "189 2019-02-27 23:15:00                    428.915619\n",
       "190 2019-02-27 23:30:00                    462.532166\n",
       "191 2019-02-27 23:45:00                    496.148743\n",
       "\n",
       "[192 rows x 2 columns]"
      ]
     },
     "execution_count": 39,
     "metadata": {},
     "output_type": "execute_result"
    }
   ],
   "source": [
    "#Split hourly data to 15 min interval data\n",
    "final_df_copy = final_df_copy.groupby(pd.Grouper(key='date_time', freq='15min'))['Electricity consumption (kW)'].first().reset_index()\n",
    "\n",
    "#Interpolate the electricty consumption in every 15 min\n",
    "final_df_copy['Electricity consumption (kW)'] = final_df_copy['Electricity consumption (kW)'].interpolate()\n",
    "\n",
    "#show the prediction in next two days\n",
    "final_df_copy[(final_df_copy['date_time'] >= '2019-02-26 00:00:00') & (final_df_copy['date_time'] < '2019-02-28 00:00:00')]"
   ]
  },
  {
   "cell_type": "code",
   "execution_count": 40,
   "metadata": {},
   "outputs": [],
   "source": [
    "final_df_copy[(final_df_copy['date_time'] >= '2019-02-26 00:00:00') & (final_df_copy['date_time'] < '2019-02-28 00:00:00')].to_csv('forecasted results 15min_2.csv',index=False)"
   ]
  },
  {
   "cell_type": "code",
   "execution_count": null,
   "metadata": {},
   "outputs": [],
   "source": []
  },
  {
   "cell_type": "code",
   "execution_count": null,
   "metadata": {},
   "outputs": [],
   "source": []
  },
  {
   "cell_type": "markdown",
   "metadata": {},
   "source": [
    "### Run Feature Importance "
   ]
  },
  {
   "cell_type": "code",
   "execution_count": 36,
   "metadata": {},
   "outputs": [
    {
     "data": {
      "text/plain": [
       "<matplotlib.axes._subplots.AxesSubplot at 0xe45b4f0>"
      ]
     },
     "execution_count": 36,
     "metadata": {},
     "output_type": "execute_result"
    },
    {
     "data": {
      "image/png": "[encoded data removed]",
      "text/plain": [
       "<Figure size 432x288 with 1 Axes>"
      ]
     },
     "metadata": {
      "needs_background": "light"
     },
     "output_type": "display_data"
    }
   ],
   "source": [
    "feat_imp = pd.Series(model.get_booster().get_score()).sort_values(ascending=False)\n",
    "#clf.get_booster().get_score(importance_type=\"gain\")\n",
    "feat_imp.plot(kind='bar', title='Feature Importances')"
   ]
  }
 ],
 "metadata": {
  "kernelspec": {
   "display_name": "Python 3",
   "language": "python",
   "name": "python3"
  },
  "language_info": {
   "codemirror_mode": {
    "name": "ipython",
    "version": 3
   },
   "file_extension": ".py",
   "mimetype": "text/x-python",
   "name": "python",
   "nbconvert_exporter": "python",
   "pygments_lexer": "ipython3",
   "version": "3.8.3"
  }
 },
 "nbformat": 4,
 "nbformat_minor": 4
}
